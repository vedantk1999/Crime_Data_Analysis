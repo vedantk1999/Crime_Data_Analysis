{
 "cells": [
  {
   "cell_type": "code",
   "execution_count": 1,
   "metadata": {},
   "outputs": [],
   "source": [
    "import pandas as pd"
   ]
  },
  {
   "cell_type": "code",
   "execution_count": 18,
   "metadata": {},
   "outputs": [
    {
     "name": "stderr",
     "output_type": "stream",
     "text": [
      "C:\\Users\\jason\\anaconda3\\lib\\site-packages\\IPython\\core\\interactiveshell.py:3071: DtypeWarning: Columns (0) have mixed types.Specify dtype option on import or set low_memory=False.\n",
      "  has_raised = await self.run_ast_nodes(code_ast.body, cell_name,\n"
     ]
    }
   ],
   "source": [
    "df = pd.read_csv('./2022.csv')"
   ]
  },
  {
   "cell_type": "code",
   "execution_count": 19,
   "metadata": {},
   "outputs": [
    {
     "data": {
      "text/html": [
       "<div>\n",
       "<style scoped>\n",
       "    .dataframe tbody tr th:only-of-type {\n",
       "        vertical-align: middle;\n",
       "    }\n",
       "\n",
       "    .dataframe tbody tr th {\n",
       "        vertical-align: top;\n",
       "    }\n",
       "\n",
       "    .dataframe thead th {\n",
       "        text-align: right;\n",
       "    }\n",
       "</style>\n",
       "<table border=\"1\" class=\"dataframe\">\n",
       "  <thead>\n",
       "    <tr style=\"text-align: right;\">\n",
       "      <th></th>\n",
       "      <th>INCIDENT_NUMBER</th>\n",
       "      <th>OFFENSE_CODE</th>\n",
       "      <th>OFFENSE_CODE_GROUP</th>\n",
       "      <th>OFFENSE_DESCRIPTION</th>\n",
       "      <th>DISTRICT</th>\n",
       "      <th>REPORTING_AREA</th>\n",
       "      <th>SHOOTING</th>\n",
       "      <th>OCCURRED_ON_DATE</th>\n",
       "      <th>YEAR</th>\n",
       "      <th>MONTH</th>\n",
       "      <th>DAY_OF_WEEK</th>\n",
       "      <th>HOUR</th>\n",
       "      <th>UCR_PART</th>\n",
       "      <th>STREET</th>\n",
       "      <th>Lat</th>\n",
       "      <th>Long</th>\n",
       "      <th>Location</th>\n",
       "    </tr>\n",
       "  </thead>\n",
       "  <tbody>\n",
       "    <tr>\n",
       "      <th>0</th>\n",
       "      <td>222076257</td>\n",
       "      <td>619</td>\n",
       "      <td>NaN</td>\n",
       "      <td>LARCENY ALL OTHERS</td>\n",
       "      <td>D4</td>\n",
       "      <td>167</td>\n",
       "      <td>0</td>\n",
       "      <td>2022-01-01 00:00:00</td>\n",
       "      <td>2022</td>\n",
       "      <td>1</td>\n",
       "      <td>Saturday</td>\n",
       "      <td>0</td>\n",
       "      <td>NaN</td>\n",
       "      <td>HARRISON AVE</td>\n",
       "      <td>42.339542</td>\n",
       "      <td>-71.069409</td>\n",
       "      <td>(42.33954198983014, -71.06940876967543)</td>\n",
       "    </tr>\n",
       "    <tr>\n",
       "      <th>1</th>\n",
       "      <td>222053099</td>\n",
       "      <td>2670</td>\n",
       "      <td>NaN</td>\n",
       "      <td>HARASSMENT/ CRIMINAL HARASSMENT</td>\n",
       "      <td>A7</td>\n",
       "      <td></td>\n",
       "      <td>0</td>\n",
       "      <td>2022-01-01 00:00:00</td>\n",
       "      <td>2022</td>\n",
       "      <td>1</td>\n",
       "      <td>Saturday</td>\n",
       "      <td>0</td>\n",
       "      <td>NaN</td>\n",
       "      <td>BENNINGTON ST</td>\n",
       "      <td>42.377246</td>\n",
       "      <td>-71.032597</td>\n",
       "      <td>(42.37724638479816, -71.0325970804128)</td>\n",
       "    </tr>\n",
       "    <tr>\n",
       "      <th>2</th>\n",
       "      <td>222039411</td>\n",
       "      <td>3201</td>\n",
       "      <td>NaN</td>\n",
       "      <td>PROPERTY - LOST/ MISSING</td>\n",
       "      <td>D14</td>\n",
       "      <td>778</td>\n",
       "      <td>0</td>\n",
       "      <td>2022-01-01 00:00:00</td>\n",
       "      <td>2022</td>\n",
       "      <td>1</td>\n",
       "      <td>Saturday</td>\n",
       "      <td>0</td>\n",
       "      <td>NaN</td>\n",
       "      <td>WASHINGTON ST</td>\n",
       "      <td>42.349056</td>\n",
       "      <td>-71.150498</td>\n",
       "      <td>(42.34905600030506, -71.15049849975023)</td>\n",
       "    </tr>\n",
       "    <tr>\n",
       "      <th>3</th>\n",
       "      <td>222011090</td>\n",
       "      <td>3201</td>\n",
       "      <td>NaN</td>\n",
       "      <td>PROPERTY - LOST/ MISSING</td>\n",
       "      <td>B3</td>\n",
       "      <td>465</td>\n",
       "      <td>0</td>\n",
       "      <td>2022-01-01 00:00:00</td>\n",
       "      <td>2022</td>\n",
       "      <td>1</td>\n",
       "      <td>Saturday</td>\n",
       "      <td>0</td>\n",
       "      <td>NaN</td>\n",
       "      <td>BLUE HILL AVE</td>\n",
       "      <td>42.284826</td>\n",
       "      <td>-71.091374</td>\n",
       "      <td>(42.28482576580488, -71.09137368938802)</td>\n",
       "    </tr>\n",
       "    <tr>\n",
       "      <th>4</th>\n",
       "      <td>222062685</td>\n",
       "      <td>3201</td>\n",
       "      <td>NaN</td>\n",
       "      <td>PROPERTY - LOST/ MISSING</td>\n",
       "      <td>B3</td>\n",
       "      <td>465</td>\n",
       "      <td>0</td>\n",
       "      <td>2022-01-01 00:00:00</td>\n",
       "      <td>2022</td>\n",
       "      <td>1</td>\n",
       "      <td>Saturday</td>\n",
       "      <td>0</td>\n",
       "      <td>NaN</td>\n",
       "      <td>BLUE HILL AVE</td>\n",
       "      <td>42.284826</td>\n",
       "      <td>-71.091374</td>\n",
       "      <td>(42.28482576580488, -71.09137368938802)</td>\n",
       "    </tr>\n",
       "  </tbody>\n",
       "</table>\n",
       "</div>"
      ],
      "text/plain": [
       "  INCIDENT_NUMBER  OFFENSE_CODE  OFFENSE_CODE_GROUP  \\\n",
       "0       222076257           619                 NaN   \n",
       "1       222053099          2670                 NaN   \n",
       "2       222039411          3201                 NaN   \n",
       "3       222011090          3201                 NaN   \n",
       "4       222062685          3201                 NaN   \n",
       "\n",
       "               OFFENSE_DESCRIPTION DISTRICT REPORTING_AREA  SHOOTING  \\\n",
       "0               LARCENY ALL OTHERS       D4            167         0   \n",
       "1  HARASSMENT/ CRIMINAL HARASSMENT       A7                        0   \n",
       "2         PROPERTY - LOST/ MISSING      D14            778         0   \n",
       "3         PROPERTY - LOST/ MISSING       B3            465         0   \n",
       "4         PROPERTY - LOST/ MISSING       B3            465         0   \n",
       "\n",
       "      OCCURRED_ON_DATE  YEAR  MONTH DAY_OF_WEEK  HOUR  UCR_PART  \\\n",
       "0  2022-01-01 00:00:00  2022      1    Saturday     0       NaN   \n",
       "1  2022-01-01 00:00:00  2022      1    Saturday     0       NaN   \n",
       "2  2022-01-01 00:00:00  2022      1    Saturday     0       NaN   \n",
       "3  2022-01-01 00:00:00  2022      1    Saturday     0       NaN   \n",
       "4  2022-01-01 00:00:00  2022      1    Saturday     0       NaN   \n",
       "\n",
       "          STREET        Lat       Long  \\\n",
       "0   HARRISON AVE  42.339542 -71.069409   \n",
       "1  BENNINGTON ST  42.377246 -71.032597   \n",
       "2  WASHINGTON ST  42.349056 -71.150498   \n",
       "3  BLUE HILL AVE  42.284826 -71.091374   \n",
       "4  BLUE HILL AVE  42.284826 -71.091374   \n",
       "\n",
       "                                  Location  \n",
       "0  (42.33954198983014, -71.06940876967543)  \n",
       "1   (42.37724638479816, -71.0325970804128)  \n",
       "2  (42.34905600030506, -71.15049849975023)  \n",
       "3  (42.28482576580488, -71.09137368938802)  \n",
       "4  (42.28482576580488, -71.09137368938802)  "
      ]
     },
     "execution_count": 19,
     "metadata": {},
     "output_type": "execute_result"
    }
   ],
   "source": [
    "df.head()"
   ]
  },
  {
   "cell_type": "code",
   "execution_count": 20,
   "metadata": {},
   "outputs": [
    {
     "name": "stdout",
     "output_type": "stream",
     "text": [
      "['LARCENY ALL OTHERS', 'HARASSMENT/ CRIMINAL HARASSMENT', 'PROPERTY - LOST/ MISSING', 'INVESTIGATE PERSON', 'INVESTIGATE PROPERTY', 'FRAUD - WIRE', 'ASSAULT - AGGRAVATED', 'THREATS TO DO BODILY HARM', 'VANDALISM', 'M/V ACCIDENT - PROPERTY DAMAGE', 'AUTO THEFT', 'LARCENY THEFT FROM MV - NON-ACCESSORY', 'PROPERTY - FOUND', 'BALLISTICS EVIDENCE/FOUND', 'ASSAULT - SIMPLE', 'TRESPASSING', 'SICK ASSIST', 'OPERATING UNDER THE INFLUENCE (OUI) ALCOHOL', 'M/V - LEAVING SCENE - PERSONAL INJURY', 'TOWED MOTOR VEHICLE', 'M/V ACCIDENT - OTHER', 'SICK/INJURED/MEDICAL - PERSON', 'FIREARM/WEAPON - FOUND OR CONFISCATED', 'M/V - LEAVING SCENE - PROPERTY DAMAGE', 'EXTORTION OR BLACKMAIL', 'SICK/INJURED/MEDICAL - POLICE', 'M/V ACCIDENT - PERSONAL INJURY', 'NOISY PARTY/RADIO-NO ARREST', 'LARCENY THEFT OF BICYCLE', 'VERBAL DISPUTE', 'SUDDEN DEATH', 'FRAUD - FALSE PRETENSE / SCHEME', 'FRAUD - CREDIT CARD / ATM FRAUD', 'FRAUD - IMPERSONATION', 'LARCENY SHOPLIFTING', 'BURGLARY - RESIDENTIAL', 'DEATH INVESTIGATION', 'LARCENY THEFT FROM BUILDING', 'FIRE REPORT', 'ROBBERY', 'WEAPON VIOLATION - CARRY/ POSSESSING/ SALE/ TRAFFICKING/ OTHER', 'LARCENY THEFT OF MV PARTS & ACCESSORIES', 'MISSING PERSON - LOCATED', 'SICK ASSIST - DRUG RELATED ILLNESS', 'LANDLORD - TENANT', 'SERVICE TO OTHER AGENCY', 'BURGLARY - COMMERICAL', 'FORGERY / COUNTERFEITING', 'RECOVERED - MV RECOVERED IN BOSTON (STOLEN OUTSIDE BOSTON)', 'M/V ACCIDENT - OTHER CITY VEHICLE', 'DRUGS - POSSESSION/ SALE/ MANUFACTURING/ USE', 'MURDER, NON-NEGLIGIENT MANSLAUGHTER', 'M/V ACCIDENT - INVOLVING PEDESTRIAN - NO INJURY', 'FRAUD - WELFARE', 'VAL - OPERATING W/O AUTHORIZATION LAWFUL', 'M/V ACCIDENT - INVOLVING PEDESTRIAN - INJURY', 'VAL - OPERATING AFTER REV/SUSP.', 'VAL - VIOLATION OF AUTO LAW', 'AUTO THEFT - LEASED/RENTED VEHICLE', 'INTIMIDATING WITNESS', 'STOLEN PROPERTY - BUYING / RECEIVING / POSSESSING', 'M/V PLATES - LOST', 'ARSON', 'M/V ACCIDENT - INVOLVING BICYCLE - NO INJURY', 'DISTURBING THE PEACE/ DISORDERLY CONDUCT/ GATHERING CAUSING ANNOYANCE/ NOISY PAR', 'MISSING PERSON', 'WARRANT ARREST - OUTSIDE OF BOSTON WARRANT', 'RECOVERED - MV RECOVERED IN BOSTON (STOLEN IN BOSTON) MUST BE SUPPLEMENTAL', 'MISSING PERSON - NOT REPORTED - LOCATED', 'ANIMAL INCIDENTS (DOG BITES, LOST DOG, ETC)', 'PROPERTY - ACCIDENTAL DAMAGE', 'GRAFFITI', 'LIQUOR LAW VIOLATION', 'AUTO THEFT - MOTORCYCLE / SCOOTER', 'M/V ACCIDENT - POLICE VEHICLE', 'EMBEZZLEMENT', 'LICENSE PREMISE VIOLATION', 'PROPERTY - LOST THEN LOCATED', 'HARBOR INCIDENT / VIOLATION', 'KIDNAPPING/CUSTODIAL KIDNAPPING/ ABDUCTION', 'FIRE REPORT/ALARM - FALSE', 'LARCENY PICK-POCKET', 'WARRANT ARREST - BOSTON WARRANT (MUST BE SUPPLEMENTAL)', 'DANGEROUS OR HAZARDOUS CONDITION', 'FUGITIVE FROM JUSTICE', 'DRUNKENNESS', 'LIQUOR/ALCOHOL - DRINKING IN PUBLIC', 'M/V ACCIDENT - INVOLVING BICYCLE - INJURY', 'SEARCH WARRANT', 'LARCENY PURSE SNATCH - NO FORCE', 'SUICIDE / SUICIDE ATTEMPT', 'FIREARM/WEAPON - LOST', 'PROPERTY - STOLEN THEN RECOVERED', 'AIRCRAFT INCIDENTS', 'VIOLATION - CITY ORDINANCE', 'BREAKING AND ENTERING (B&E) MOTOR VEHICLE', 'AFFRAY', 'PROTECTIVE CUSTODY / SAFEKEEPING', 'MURDER, NON-NEGLIGENT MANSLAUGHTER', 'BOMB THREAT', 'EVADING FARE', 'ANIMAL ABUSE', 'PRISONER - SUICIDE / SUICIDE ATTEMPT', 'CHILD REQUIRING ASSISTANCE (FOMERLY CHINS)', 'OPERATING UNDER THE INFLUENCE (OUI) DRUGS', 'LARCENY THEFT FROM COIN-OP MACHINE', 'PROSTITUTION - SOLICITING', 'OTHER OFFENSE', 'POSSESSION OF BURGLARIOUS TOOLS', 'BREAKING AND ENTERING (B&E) MOTOR VEHICLE (NO PROPERTY STOLEN)', 'EXPLOSIVES - TURNED IN OR FOUND', 'DRUGS - POSSESSION OF DRUG PARAPHANALIA', 'INJURY BICYCLE NO M/V INVOLVED', 'TRUANCY / RUNAWAY', 'MANSLAUGHTER - VEHICLE - NEGLIGENCE', 'EXPLOSIVES - POSSESSION OR USE', 'PROSTITUTION', 'PRISONER ESCAPE / ESCAPE & RECAPTURE', 'FIREARM/WEAPON - ACCIDENTAL INJURY / DEATH', 'OBSCENE PHONE CALLS']\n"
     ]
    }
   ],
   "source": [
    "unique_offence_descriptions = list(df['OFFENSE_DESCRIPTION'].unique())\n",
    "print(unique_offence_descriptions)"
   ]
  },
  {
   "cell_type": "code",
   "execution_count": 22,
   "metadata": {},
   "outputs": [
    {
     "name": "stdout",
     "output_type": "stream",
     "text": [
      "INVESTIGATE PERSON                       8070\n",
      "SICK ASSIST                              5484\n",
      "M/V - LEAVING SCENE - PROPERTY DAMAGE    4562\n",
      "INVESTIGATE PROPERTY                     3539\n",
      "TOWED MOTOR VEHICLE                      3190\n",
      "ASSAULT - SIMPLE                         2972\n",
      "VANDALISM                                2902\n",
      "PROPERTY - LOST/ MISSING                 2498\n",
      "LARCENY SHOPLIFTING                      2234\n",
      "M/V ACCIDENT - PROPERTY DAMAGE           1953\n",
      "Name: OFFENSE_DESCRIPTION, dtype: int64\n"
     ]
    }
   ],
   "source": [
    "top_10_crimes = df['OFFENSE_DESCRIPTION'].value_counts().head(10)\n",
    "print(top_10_crimes)"
   ]
  },
  {
   "cell_type": "code",
   "execution_count": 24,
   "metadata": {},
   "outputs": [
    {
     "name": "stdout",
     "output_type": "stream",
     "text": [
      "['INVESTIGATE PERSON', 'SICK ASSIST', 'M/V - LEAVING SCENE - PROPERTY DAMAGE', 'INVESTIGATE PROPERTY', 'TOWED MOTOR VEHICLE', 'ASSAULT - SIMPLE', 'VANDALISM', 'PROPERTY - LOST/ MISSING', 'LARCENY SHOPLIFTING', 'M/V ACCIDENT - PROPERTY DAMAGE']\n"
     ]
    }
   ],
   "source": [
    "top_10_crimes_list = df['OFFENSE_DESCRIPTION'].value_counts().head(10).index.tolist()\n",
    "print(top_10_crimes_list)"
   ]
  },
  {
   "cell_type": "code",
   "execution_count": null,
   "metadata": {},
   "outputs": [],
   "source": []
  }
 ],
 "metadata": {
  "kernelspec": {
   "display_name": "Python 3",
   "language": "python",
   "name": "python3"
  },
  "language_info": {
   "codemirror_mode": {
    "name": "ipython",
    "version": 3
   },
   "file_extension": ".py",
   "mimetype": "text/x-python",
   "name": "python",
   "nbconvert_exporter": "python",
   "pygments_lexer": "ipython3",
   "version": "3.8.3"
  }
 },
 "nbformat": 4,
 "nbformat_minor": 4
}
